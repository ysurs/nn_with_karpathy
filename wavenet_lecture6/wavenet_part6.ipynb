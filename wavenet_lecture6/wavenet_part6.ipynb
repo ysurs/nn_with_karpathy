{
  "cells": [
    {
      "cell_type": "markdown",
      "metadata": {
        "id": "view-in-github",
        "colab_type": "text"
      },
      "source": [
        "<a href=\"https://colab.research.google.com/github/ysurs/nn_with_karpathy/blob/main/wavenet_part6.ipynb\" target=\"_parent\"><img src=\"https://colab.research.google.com/assets/colab-badge.svg\" alt=\"Open In Colab\"/></a>"
      ]
    },
    {
      "cell_type": "markdown",
      "metadata": {
        "id": "_mEF05xtbHwp"
      },
      "source": [
        "## makemore: part 5 (building a WaveNet)\n",
        "\n",
        "[DeepMind blog post from 2016](https://www.deepmind.com/blog/wavenet-a-generative-model-for-raw-audio)"
      ]
    },
    {
      "cell_type": "code",
      "execution_count": 1,
      "metadata": {
        "colab": {
          "base_uri": "https://localhost:8080/"
        },
        "id": "dFP7JHPVxEWG",
        "outputId": "ebbce928-7eca-4eb1-dc2c-954acfd5cb1e"
      },
      "outputs": [
        {
          "output_type": "stream",
          "name": "stdout",
          "text": [
            "Drive already mounted at /content/drive; to attempt to forcibly remount, call drive.mount(\"/content/drive\", force_remount=True).\n"
          ]
        }
      ],
      "source": [
        "from google.colab import drive\n",
        "drive.mount('/content/drive')"
      ]
    },
    {
      "cell_type": "code",
      "execution_count": 2,
      "metadata": {
        "id": "7lDFibCgbHwr"
      },
      "outputs": [],
      "source": [
        "import torch\n",
        "import torch.nn.functional as F\n",
        "import matplotlib.pyplot as plt # for making figures\n",
        "%matplotlib inline"
      ]
    },
    {
      "cell_type": "code",
      "execution_count": 3,
      "metadata": {
        "colab": {
          "base_uri": "https://localhost:8080/"
        },
        "id": "ylW9Ir3GbHws",
        "outputId": "b1e4570e-d012-432f-a618-bad05caf676e"
      },
      "outputs": [
        {
          "output_type": "stream",
          "name": "stdout",
          "text": [
            "32033\n",
            "15\n",
            "['emma', 'olivia', 'ava', 'isabella', 'sophia', 'charlotte', 'mia', 'amelia']\n"
          ]
        }
      ],
      "source": [
        "# read in all the words\n",
        "words = open('/content/drive/MyDrive/building_makemore/names.txt', 'r').read().splitlines()\n",
        "print(len(words))\n",
        "print(max(len(w) for w in words))\n",
        "print(words[:8])"
      ]
    },
    {
      "cell_type": "code",
      "execution_count": 4,
      "metadata": {
        "colab": {
          "base_uri": "https://localhost:8080/"
        },
        "id": "GPwi-_rEbHwt",
        "outputId": "070a4261-a7a0-4d0e-c5ea-adf7e83c330f"
      },
      "outputs": [
        {
          "output_type": "stream",
          "name": "stdout",
          "text": [
            "{1: 'a', 2: 'b', 3: 'c', 4: 'd', 5: 'e', 6: 'f', 7: 'g', 8: 'h', 9: 'i', 10: 'j', 11: 'k', 12: 'l', 13: 'm', 14: 'n', 15: 'o', 16: 'p', 17: 'q', 18: 'r', 19: 's', 20: 't', 21: 'u', 22: 'v', 23: 'w', 24: 'x', 25: 'y', 26: 'z', 0: '.'}\n",
            "27\n"
          ]
        }
      ],
      "source": [
        "# build the vocabulary of characters and mappings to/from integers\n",
        "chars = sorted(list(set(''.join(words))))\n",
        "stoi = {s:i+1 for i,s in enumerate(chars)}\n",
        "stoi['.'] = 0\n",
        "itos = {i:s for s,i in stoi.items()}\n",
        "vocab_size = len(itos)\n",
        "print(itos)\n",
        "print(vocab_size)"
      ]
    },
    {
      "cell_type": "code",
      "execution_count": 5,
      "metadata": {
        "id": "j8JdduA3bHwu"
      },
      "outputs": [],
      "source": [
        "# shuffle up the words\n",
        "import random\n",
        "random.seed(42)\n",
        "random.shuffle(words)"
      ]
    },
    {
      "cell_type": "code",
      "execution_count": 6,
      "metadata": {
        "colab": {
          "base_uri": "https://localhost:8080/"
        },
        "id": "kcrfsUG_bHwu",
        "outputId": "90ce6cac-1d0c-4d6b-85d3-8bee40a3c066"
      },
      "outputs": [
        {
          "output_type": "stream",
          "name": "stdout",
          "text": [
            "torch.Size([182625, 8]) torch.Size([182625])\n",
            "torch.Size([22655, 8]) torch.Size([22655])\n",
            "torch.Size([22866, 8]) torch.Size([22866])\n"
          ]
        }
      ],
      "source": [
        "# build the dataset\n",
        "block_size = 8 # context length: how many characters do we take to predict the next one?\n",
        "\n",
        "def build_dataset(words):  \n",
        "  X, Y = [], []\n",
        "  \n",
        "  for w in words:\n",
        "    context = [0] * block_size\n",
        "    for ch in w + '.':\n",
        "      ix = stoi[ch]\n",
        "      X.append(context)\n",
        "      Y.append(ix)\n",
        "      context = context[1:] + [ix] # crop and append\n",
        "\n",
        "  X = torch.tensor(X)\n",
        "  Y = torch.tensor(Y)\n",
        "  print(X.shape, Y.shape)\n",
        "  return X, Y\n",
        "\n",
        "n1 = int(0.8*len(words))\n",
        "n2 = int(0.9*len(words))\n",
        "Xtr,  Ytr  = build_dataset(words[:n1])     # 80%\n",
        "Xdev, Ydev = build_dataset(words[n1:n2])   # 10%\n",
        "Xte,  Yte  = build_dataset(words[n2:])     # 10%"
      ]
    },
    {
      "cell_type": "code",
      "execution_count": 7,
      "metadata": {
        "colab": {
          "base_uri": "https://localhost:8080/"
        },
        "id": "9aFDMks6bHwv",
        "outputId": "6a9d0cd1-d143-4a51-b346-b7dae41ce397"
      },
      "outputs": [
        {
          "output_type": "stream",
          "name": "stdout",
          "text": [
            "........ --> y\n",
            ".......y --> u\n",
            "......yu --> h\n",
            ".....yuh --> e\n",
            "....yuhe --> n\n",
            "...yuhen --> g\n",
            "..yuheng --> .\n",
            "........ --> d\n",
            ".......d --> i\n",
            "......di --> o\n",
            ".....dio --> n\n",
            "....dion --> d\n",
            "...diond --> r\n",
            "..diondr --> e\n",
            ".diondre --> .\n",
            "........ --> x\n",
            ".......x --> a\n",
            "......xa --> v\n",
            ".....xav --> i\n",
            "....xavi --> e\n"
          ]
        }
      ],
      "source": [
        "for x,y in zip(Xtr[:20], Ytr[:20]):\n",
        "  print(''.join(itos[ix.item()] for ix in x), '-->', itos[y.item()])"
      ]
    },
    {
      "cell_type": "code",
      "execution_count": 8,
      "metadata": {
        "id": "-goFZmrabHww"
      },
      "outputs": [],
      "source": [
        "# Near copy paste of the layers we have developed in Part 3\n",
        "\n",
        "# -----------------------------------------------------------------------------------------------\n",
        "class Linear:\n",
        "  \n",
        "  def __init__(self, fan_in, fan_out, bias=True):\n",
        "    self.weight = torch.randn((fan_in, fan_out)) / fan_in**0.5 # note: kaiming init\n",
        "    self.bias = torch.zeros(fan_out) if bias else None\n",
        "  \n",
        "  def __call__(self, x):\n",
        "    self.out = x @ self.weight\n",
        "    if self.bias is not None:\n",
        "      self.out += self.bias\n",
        "    return self.out\n",
        "  \n",
        "  def parameters(self):\n",
        "    return [self.weight] + ([] if self.bias is None else [self.bias])\n",
        "\n",
        "# -----------------------------------------------------------------------------------------------\n",
        "class BatchNorm1d:\n",
        "  \n",
        "  def __init__(self, dim, eps=1e-5, momentum=0.1):\n",
        "    self.eps = eps\n",
        "    self.momentum = momentum\n",
        "    self.training = True\n",
        "    # parameters (trained with backprop)\n",
        "    self.gamma = torch.ones(dim)\n",
        "    self.beta = torch.zeros(dim)\n",
        "    # buffers (trained with a running 'momentum update')\n",
        "    self.running_mean = torch.zeros(dim)\n",
        "    self.running_var = torch.ones(dim)\n",
        "  \n",
        "  def __call__(self, x):\n",
        "    # calculate the forward pass\n",
        "    if self.training:\n",
        "      if x.ndim == 2:\n",
        "        dim = 0\n",
        "      elif x.ndim == 3:\n",
        "        dim = (0,1)\n",
        "      xmean = x.mean(dim, keepdim=True) # batch mean\n",
        "      xvar = x.var(dim, keepdim=True) # batch variance\n",
        "    else:\n",
        "      xmean = self.running_mean\n",
        "      xvar = self.running_var\n",
        "    xhat = (x - xmean) / torch.sqrt(xvar + self.eps) # normalize to unit variance\n",
        "    self.out = self.gamma * xhat + self.beta\n",
        "    # update the buffers\n",
        "    if self.training:\n",
        "      with torch.no_grad():\n",
        "        self.running_mean = (1 - self.momentum) * self.running_mean + self.momentum * xmean\n",
        "        self.running_var = (1 - self.momentum) * self.running_var + self.momentum * xvar\n",
        "    return self.out\n",
        "  \n",
        "  def parameters(self):\n",
        "    return [self.gamma, self.beta]\n",
        "\n",
        "# -----------------------------------------------------------------------------------------------\n",
        "class Tanh:\n",
        "  def __call__(self, x):\n",
        "    self.out = torch.tanh(x)\n",
        "    return self.out\n",
        "  def parameters(self):\n",
        "    return []\n",
        "\n",
        "# -----------------------------------------------------------------------------------------------\n",
        "\n",
        "class Embedding:\n",
        "\n",
        "  def __init__(self,num_embeddings,embedding_dim):\n",
        "    self.weight=torch.randn((num_embeddings,embedding_dim))\n",
        "  \n",
        "  def __call__(self,IX):\n",
        "    self.out=self.weight[IX]\n",
        "    return self.out\n",
        "  \n",
        "  def parameters(self):\n",
        "    return [self.weight]\n",
        "\n",
        "\n",
        "# -----------------------------------------------------------------------------------------------\n",
        "\n",
        "class Flatten:\n",
        "\n",
        "  def __call__(self,x):\n",
        "    self.out=x.view(x.shape[0],-1)\n",
        "    return self.out\n",
        "  \n",
        "  def parameters(self):\n",
        "    return []\n",
        "\n",
        "# -----------------------------------------------------------------------------------------------\n",
        "\n",
        "class FlattenConsecutive:\n",
        "\n",
        "  def __init__(self,n):\n",
        "    self.n=n   ## how many consecutive elements you want\n",
        "\n",
        "  def __call__(self,x):\n",
        "    #self.out=x.view(x.shape[0],-1)\n",
        "    B,T,C=x.shape\n",
        "    x=x.view(B,T//self.n,C*self.n)\n",
        "    \n",
        "    if x.shape[1]==1:\n",
        "      x=x.squeeze(1)\n",
        "    self.out=x\n",
        "    return self.out\n",
        "  \n",
        "  def parameters(self):\n",
        "    return []\n",
        "\n",
        "# -----------------------------------------------------------------------------------------------\n",
        "  \n",
        "class Sequential:\n",
        "\n",
        "  def __init__(self,layers):\n",
        "    self.layers=layers\n",
        "  \n",
        "  def __call__(self,x):\n",
        "    for layer in self.layers:\n",
        "      x = layer(x)\n",
        "    self.out=x\n",
        "    return self.out\n",
        "\n",
        "  def parameters(self):\n",
        "    return [p for layer in self.layers for p in layer.parameters()]\n",
        "\n",
        "\n"
      ]
    },
    {
      "cell_type": "code",
      "execution_count": 9,
      "metadata": {
        "id": "v01gpFOSbHwx"
      },
      "outputs": [],
      "source": [
        "torch.manual_seed(42); # seed rng for reproducibility"
      ]
    },
    {
      "cell_type": "code",
      "execution_count": 10,
      "metadata": {
        "colab": {
          "base_uri": "https://localhost:8080/"
        },
        "id": "msgLFnLPTzrU",
        "outputId": "53133cb6-d05d-4aa2-fc81-e7c7d2e46dd2"
      },
      "outputs": [
        {
          "output_type": "stream",
          "name": "stdout",
          "text": [
            "76579\n"
          ]
        }
      ],
      "source": [
        "n_embd = 24 # the dimensionality of the character embedding vectors\n",
        "n_hidden = 128 # the number of neurons in the hidden layer of the MLP\n",
        "\n",
        "\n",
        "model = Sequential([\n",
        "  Embedding(vocab_size,n_embd),\n",
        "  FlattenConsecutive(2),Linear(n_embd * 2, n_hidden, bias=False), BatchNorm1d(n_hidden), Tanh(),\n",
        "  FlattenConsecutive(2),Linear(n_hidden * 2, n_hidden, bias=False), BatchNorm1d(n_hidden), Tanh(),\n",
        "  FlattenConsecutive(2),Linear(n_hidden * 2, n_hidden, bias=False), BatchNorm1d(n_hidden), Tanh(),\n",
        "  Linear(n_hidden, vocab_size)\n",
        "])\n",
        "\n",
        "with torch.no_grad():\n",
        "  # last layer: make less confident\n",
        "  model.layers[-1].weight *= 0.1\n",
        "\n",
        "\n",
        "parameters = model.parameters()\n",
        "print(sum(p.nelement() for p in parameters)) # number of parameters in total\n",
        "for p in parameters:\n",
        "  p.requires_grad = True\n",
        "  "
      ]
    },
    {
      "cell_type": "code",
      "execution_count": null,
      "metadata": {
        "colab": {
          "base_uri": "https://localhost:8080/"
        },
        "id": "hU374P73UF68",
        "outputId": "647b0bac-337d-48c0-c943-0705fd4c253a"
      },
      "outputs": [
        {
          "output_type": "stream",
          "name": "stdout",
          "text": [
            "      0/ 200000: 3.3167\n",
            "  10000/ 200000: 2.0576\n",
            "  20000/ 200000: 2.0723\n",
            "  30000/ 200000: 2.5134\n",
            "  40000/ 200000: 2.1476\n",
            "  50000/ 200000: 1.7836\n",
            "  60000/ 200000: 2.2592\n",
            "  70000/ 200000: 1.9331\n",
            "  80000/ 200000: 1.6875\n",
            "  90000/ 200000: 2.0395\n",
            " 100000/ 200000: 1.7736\n",
            " 110000/ 200000: 1.9569\n",
            " 120000/ 200000: 1.7465\n",
            " 130000/ 200000: 1.8126\n",
            " 140000/ 200000: 1.7406\n",
            " 150000/ 200000: 1.7466\n",
            " 160000/ 200000: 1.8805\n",
            " 170000/ 200000: 1.6266\n",
            " 180000/ 200000: 1.6476\n"
          ]
        }
      ],
      "source": [
        "# same optimization as last time\n",
        "max_steps = 200000\n",
        "batch_size = 32\n",
        "lossi = []\n",
        "ud = []\n",
        "\n",
        "for i in range(max_steps):\n",
        "  \n",
        "  # minibatch construct\n",
        "  ix = torch.randint(0, Xtr.shape[0], (batch_size,),)\n",
        "  Xb, Yb = Xtr[ix], Ytr[ix] # batch X,Y\n",
        "  \n",
        "  # forward pass\n",
        "  logits=model(Xb)\n",
        "  loss = F.cross_entropy(logits, Yb) # loss function\n",
        "  \n",
        "  \n",
        "  for p in parameters:\n",
        "    p.grad = None\n",
        "  loss.backward()\n",
        "  \n",
        "  # update\n",
        "  lr = 0.1 if i < 150000 else 0.01 # step learning rate decay\n",
        "  for p in parameters:\n",
        "    p.data += -lr * p.grad\n",
        "\n",
        "  # track stats\n",
        "  if i % 10000 == 0: # print every once in a while\n",
        "    print(f'{i:7d}/{max_steps:7d}: {loss.item():.4f}')\n",
        "  lossi.append(loss.log10().item())\n",
        "  \n",
        "  # break"
      ]
    },
    {
      "cell_type": "code",
      "execution_count": null,
      "metadata": {
        "colab": {
          "base_uri": "https://localhost:8080/",
          "height": 282
        },
        "id": "tnWUToQaXgpi",
        "outputId": "8e0feda8-3c1b-4ad1-d36a-2e0356119fcc"
      },
      "outputs": [
        {
          "data": {
            "text/plain": [
              "[<matplotlib.lines.Line2D at 0x7f484f58ba60>]"
            ]
          },
          "execution_count": 29,
          "metadata": {},
          "output_type": "execute_result"
        },
        {
          "data": {
            "image/png": "[encoded data removed]",
            "text/plain": [
              "<Figure size 432x288 with 1 Axes>"
            ]
          },
          "metadata": {},
          "output_type": "display_data"
        }
      ],
      "source": [
        "plt.plot(lossi)"
      ]
    },
    {
      "cell_type": "code",
      "execution_count": 12,
      "metadata": {
        "colab": {
          "base_uri": "https://localhost:8080/",
          "height": 282
        },
        "id": "uRezL9GuYzHh",
        "outputId": "bcf7448f-91e1-4cb4-ed08-ce799726d5b2"
      },
      "outputs": [
        {
          "output_type": "execute_result",
          "data": {
            "text/plain": [
              "[<matplotlib.lines.Line2D at 0x7f77942f3e50>]"
            ]
          },
          "metadata": {},
          "execution_count": 12
        },
        {
          "output_type": "display_data",
          "data": {
            "text/plain": [
              "<Figure size 432x288 with 1 Axes>"
            ],
            "image/png": "[encoded data removed]"
          },
          "metadata": {
            "needs_background": "light"
          }
        }
      ],
      "source": [
        "# Improving the above plot using mean and view methods\n",
        "#This view of loss creates rows of 1000 elements each\n",
        "\n",
        "plt.plot((torch.tensor(lossi).view(-1,1000)).mean(1))"
      ]
    },
    {
      "cell_type": "code",
      "execution_count": 13,
      "metadata": {
        "id": "HMUluQ6Is67b"
      },
      "outputs": [],
      "source": [
        "for layer in model.layers:\n",
        "  layer.training=False"
      ]
    },
    {
      "cell_type": "code",
      "execution_count": 14,
      "metadata": {
        "colab": {
          "base_uri": "https://localhost:8080/"
        },
        "id": "WlnFSNi1ZIWa",
        "outputId": "561f962b-d4a4-4eb7-c3a3-20e3aca59856"
      },
      "outputs": [
        {
          "output_type": "stream",
          "name": "stdout",
          "text": [
            "train 1.7690284252166748\n",
            "val 1.9936527013778687\n"
          ]
        }
      ],
      "source": [
        "@torch.no_grad() # this decorator disables gradient tracking\n",
        "def split_loss(split):\n",
        "  x,y = {\n",
        "    'train': (Xtr, Ytr),\n",
        "    'val': (Xdev, Ydev),\n",
        "    'test': (Xte, Yte),\n",
        "  }[split]\n",
        "  logits=model(x)\n",
        "  loss = F.cross_entropy(logits, y)\n",
        "  print(split, loss.item())\n",
        "\n",
        "\n",
        "split_loss('train')\n",
        "split_loss('val')"
      ]
    },
    {
      "cell_type": "code",
      "execution_count": 15,
      "metadata": {
        "colab": {
          "base_uri": "https://localhost:8080/"
        },
        "id": "2smwKJC-deSc",
        "outputId": "14ea0ced-b250-48e6-b72b-f83e49a3209b"
      },
      "outputs": [
        {
          "output_type": "stream",
          "name": "stdout",
          "text": [
            "arlij.\n",
            "chetta.\n",
            "heago.\n",
            "rocklei.\n",
            "hendrix.\n",
            "jamylie.\n",
            "broxin.\n",
            "denish.\n",
            "anslibt.\n",
            "marianah.\n",
            "astavia.\n",
            "annayve.\n",
            "aniah.\n",
            "jayce.\n",
            "nodiel.\n",
            "remita.\n",
            "niyelle.\n",
            "jaylene.\n",
            "aiyan.\n",
            "aubreana.\n"
          ]
        }
      ],
      "source": [
        "for _ in range(20):\n",
        "    \n",
        "    out = []\n",
        "    context = [0] * block_size # initialize with all ...\n",
        "    while True:\n",
        "      # forward pass the neural net\n",
        "      logits=model(torch.tensor([context]))\n",
        "      probs = F.softmax(logits, dim=1)\n",
        "      # sample from the distribution\n",
        "      ix = torch.multinomial(probs, num_samples=1).item()\n",
        "      # shift the context window and track the samples\n",
        "      context = context[1:] + [ix]\n",
        "      out.append(ix)\n",
        "      # if we sample the special '.' token, break\n",
        "      if ix == 0:\n",
        "        break\n",
        "    \n",
        "    print(''.join(itos[i] for i in out)) # decode and print the generated word"
      ]
    },
    {
      "cell_type": "markdown",
      "metadata": {
        "id": "qeHW0f6vMF0v"
      },
      "source": [
        "Performance log:\n",
        "\n",
        "\n",
        "\n",
        "* original (3 character context + 200 hidden neurons, 12K params): train 2.058, val 2.105\n",
        "* context: 3 -> 8 (22K params): train 1.918, val 2.027\n",
        "\n",
        "* final (76k params) train: 1.76 val: 1.99 (best)"
      ]
    },
    {
      "cell_type": "markdown",
      "metadata": {
        "id": "R3l-wlDFTuRx"
      },
      "source": [
        "### Rough space:"
      ]
    },
    {
      "cell_type": "code",
      "execution_count": null,
      "metadata": {
        "colab": {
          "base_uri": "https://localhost:8080/"
        },
        "id": "Uj6ANQXWdolM",
        "outputId": "0fa32bf6-53ae-42ba-d8ec-d563d4a0a82a"
      },
      "outputs": [
        {
          "data": {
            "text/plain": [
              "(torch.Size([182778, 8]), torch.Size([182778]))"
            ]
          },
          "execution_count": 72,
          "metadata": {},
          "output_type": "execute_result"
        }
      ],
      "source": [
        "Xtr.shape,Ytr.shape"
      ]
    },
    {
      "cell_type": "code",
      "execution_count": null,
      "metadata": {
        "id": "PBJCqLP6T14R"
      },
      "outputs": [],
      "source": [
        "indices=torch.randint(0,Xtr.shape[0],(4,))"
      ]
    },
    {
      "cell_type": "code",
      "execution_count": null,
      "metadata": {
        "id": "PH0E1Zh-UU9q"
      },
      "outputs": [],
      "source": [
        "Xb,Yb=Xtr[indices],Ytr[indices]"
      ]
    },
    {
      "cell_type": "code",
      "execution_count": null,
      "metadata": {
        "id": "3Cs7YgCcUcSK"
      },
      "outputs": [],
      "source": [
        "logits=model(Xb)"
      ]
    },
    {
      "cell_type": "code",
      "execution_count": null,
      "metadata": {
        "colab": {
          "base_uri": "https://localhost:8080/"
        },
        "id": "7DFylGGZOQbB",
        "outputId": "d194d5e5-794b-482b-df4a-46078f6c8d99"
      },
      "outputs": [
        {
          "name": "stdout",
          "output_type": "stream",
          "text": [
            "Embedding : (4, 8, 10)\n",
            "FlattenConsecutive : (4, 4, 20)\n",
            "Linear : (4, 4, 200)\n",
            "BatchNorm1d : (4, 4, 200)\n",
            "Tanh : (4, 4, 200)\n",
            "FlattenConsecutive : (4, 2, 400)\n",
            "Linear : (4, 2, 200)\n",
            "BatchNorm1d : (4, 2, 200)\n",
            "Tanh : (4, 2, 200)\n",
            "FlattenConsecutive : (4, 400)\n",
            "Linear : (4, 200)\n",
            "BatchNorm1d : (4, 200)\n",
            "Tanh : (4, 200)\n",
            "Linear : (4, 27)\n"
          ]
        }
      ],
      "source": [
        "for layer in model.layers:\n",
        "  print(layer.__class__.__name__,':',tuple(layer.out.shape))"
      ]
    },
    {
      "cell_type": "code",
      "execution_count": null,
      "metadata": {
        "colab": {
          "base_uri": "https://localhost:8080/"
        },
        "id": "i4nmspGmU1CR",
        "outputId": "ca5697f7-7e94-4045-a870-d6be9b5b0346"
      },
      "outputs": [
        {
          "data": {
            "text/plain": [
              "torch.Size([4, 8, 10])"
            ]
          },
          "execution_count": 21,
          "metadata": {},
          "output_type": "execute_result"
        }
      ],
      "source": [
        "# This is the output from the embedding layer\n",
        "model.layers[0].out.shape"
      ]
    },
    {
      "cell_type": "code",
      "execution_count": null,
      "metadata": {
        "colab": {
          "base_uri": "https://localhost:8080/"
        },
        "id": "z_LA5Dt5U38T",
        "outputId": "9362efbf-19e0-4343-bf91-7ee330153413"
      },
      "outputs": [
        {
          "data": {
            "text/plain": [
              "torch.Size([4, 80])"
            ]
          },
          "execution_count": 22,
          "metadata": {},
          "output_type": "execute_result"
        }
      ],
      "source": [
        "# This is the output from flattening layer\n",
        "\n",
        "model.layers[1].out.shape"
      ]
    },
    {
      "cell_type": "code",
      "execution_count": null,
      "metadata": {
        "colab": {
          "base_uri": "https://localhost:8080/"
        },
        "id": "AY8yRo0cVJpk",
        "outputId": "6c2247b3-f894-47fc-d099-f18ce28c0f0e"
      },
      "outputs": [
        {
          "data": {
            "text/plain": [
              "torch.Size([4, 200])"
            ]
          },
          "execution_count": 24,
          "metadata": {},
          "output_type": "execute_result"
        }
      ],
      "source": [
        "# This is the output from linear layer\n",
        "model.layers[2].out.shape"
      ]
    },
    {
      "cell_type": "code",
      "execution_count": null,
      "metadata": {
        "colab": {
          "base_uri": "https://localhost:8080/"
        },
        "id": "r7QK9kwWVLk6",
        "outputId": "1d1437cc-b7aa-4b27-caac-ea13329e474e"
      },
      "outputs": [
        {
          "data": {
            "text/plain": [
              "torch.Size([4, 200])"
            ]
          },
          "execution_count": 26,
          "metadata": {},
          "output_type": "execute_result"
        }
      ],
      "source": [
        "# current implementation\n",
        "\n",
        "(torch.randn(4,80)@torch.randn(80,200)+torch.randn(200)).shape"
      ]
    },
    {
      "cell_type": "code",
      "execution_count": null,
      "metadata": {
        "colab": {
          "base_uri": "https://localhost:8080/"
        },
        "id": "7FKS5f1ghBb9",
        "outputId": "e6076512-c299-43e0-e4f4-d08843223634"
      },
      "outputs": [
        {
          "data": {
            "text/plain": [
              "torch.Size([4, 4, 200])"
            ]
          },
          "execution_count": 27,
          "metadata": {},
          "output_type": "execute_result"
        }
      ],
      "source": [
        "# wavenet implementation\n",
        "(torch.randn(4,4,20)@torch.randn(20,200)+torch.randn(200)).shape"
      ]
    },
    {
      "cell_type": "markdown",
      "metadata": {
        "id": "-zSLoEefhWYv"
      },
      "source": [
        "### We want to send 2 characters to the linear layer at a time and we have to group 2 consecutive characters"
      ]
    },
    {
      "cell_type": "code",
      "execution_count": null,
      "metadata": {
        "id": "t8F6KP-EhTvt"
      },
      "outputs": [],
      "source": [
        "e=torch.randn((2,4,4))\n",
        "xme=e.mean(0,keepdims=True)"
      ]
    },
    {
      "cell_type": "code",
      "execution_count": null,
      "metadata": {
        "colab": {
          "base_uri": "https://localhost:8080/"
        },
        "id": "qQExjJNOiqv7",
        "outputId": "136622ab-e2ee-4532-b83d-2b5ceae347a8"
      },
      "outputs": [
        {
          "data": {
            "text/plain": [
              "tensor([[[-0.8994,  1.3091, -0.8432, -0.3609],\n",
              "         [-0.3740,  0.3658, -1.3351,  0.5365],\n",
              "         [-1.3767, -0.5914,  1.8114, -0.0505],\n",
              "         [-1.2442, -0.0556,  0.2869,  0.5559]],\n",
              "\n",
              "        [[-0.8601,  0.4954, -0.3190,  0.2049],\n",
              "         [ 0.1422, -0.0180, -1.2665,  0.8443],\n",
              "         [-1.3685,  1.1905,  1.2665, -1.1051],\n",
              "         [-0.3204,  0.6370,  0.1871,  1.6336]]])"
            ]
          },
          "execution_count": 19,
          "metadata": {},
          "output_type": "execute_result"
        }
      ],
      "source": [
        "e"
      ]
    },
    {
      "cell_type": "code",
      "execution_count": null,
      "metadata": {
        "colab": {
          "base_uri": "https://localhost:8080/"
        },
        "id": "8gGVJdsWj_A5",
        "outputId": "3c44edb5-f687-4cd7-f287-a526f84915cb"
      },
      "outputs": [
        {
          "data": {
            "text/plain": [
              "tensor([[-0.8798,  0.9022, -0.5811, -0.0780],\n",
              "        [-0.1159,  0.1739, -1.3008,  0.6904],\n",
              "        [-1.3726,  0.2996,  1.5389, -0.5778],\n",
              "        [-0.7823,  0.2907,  0.2370,  1.0947]])"
            ]
          },
          "execution_count": 20,
          "metadata": {},
          "output_type": "execute_result"
        }
      ],
      "source": [
        "e.mean(0)"
      ]
    },
    {
      "cell_type": "code",
      "execution_count": null,
      "metadata": {
        "colab": {
          "base_uri": "https://localhost:8080/"
        },
        "id": "m1UisoswkCNT",
        "outputId": "74f85afe-a5d9-42e8-bc89-5c13e5636ca6"
      },
      "outputs": [
        {
          "data": {
            "text/plain": [
              "tensor(-0.8798)"
            ]
          },
          "execution_count": 21,
          "metadata": {},
          "output_type": "execute_result"
        }
      ],
      "source": [
        "torch.tensor([-0.8601,-0.8994]).mean()"
      ]
    },
    {
      "cell_type": "code",
      "execution_count": null,
      "metadata": {
        "colab": {
          "base_uri": "https://localhost:8080/"
        },
        "id": "RwXrqL34ik9s",
        "outputId": "686af379-53f5-4aa1-afa5-00c784dcbdcb"
      },
      "outputs": [
        {
          "data": {
            "text/plain": [
              "tensor([[-0.3889, -0.3269,  0.6420,  0.5278]])"
            ]
          },
          "execution_count": 16,
          "metadata": {},
          "output_type": "execute_result"
        }
      ],
      "source": [
        "e.mean(2)"
      ]
    },
    {
      "cell_type": "code",
      "execution_count": null,
      "metadata": {
        "colab": {
          "base_uri": "https://localhost:8080/"
        },
        "id": "Q89R0JuLi-VK",
        "outputId": "ac5a33df-8c46-4dd1-a8c4-00825ce3a6f8"
      },
      "outputs": [
        {
          "data": {
            "text/plain": [
              "tensor(0.3407)"
            ]
          },
          "execution_count": 14,
          "metadata": {},
          "output_type": "execute_result"
        }
      ],
      "source": [
        "torch.tensor([-1.2795, 0.5689,  1.2454, 0.8282]).mean()"
      ]
    },
    {
      "cell_type": "code",
      "execution_count": null,
      "metadata": {
        "colab": {
          "base_uri": "https://localhost:8080/"
        },
        "id": "P2rkc1dsjnTi",
        "outputId": "5e5f3cfb-f3bc-4ba0-aa55-d1bd83d5b096"
      },
      "outputs": [
        {
          "data": {
            "text/plain": [
              "tensor(-0.3269)"
            ]
          },
          "execution_count": 17,
          "metadata": {},
          "output_type": "execute_result"
        }
      ],
      "source": [
        "torch.tensor([ 0.5689, -0.5495,  0.1083, -1.4352]).mean()"
      ]
    },
    {
      "cell_type": "code",
      "execution_count": null,
      "metadata": {
        "colab": {
          "base_uri": "https://localhost:8080/"
        },
        "id": "31dEfPMFhvzf",
        "outputId": "55facbae-3d3d-40cb-c729-eea58f1a5c09"
      },
      "outputs": [
        {
          "data": {
            "text/plain": [
              "tensor([[[ 1.2383,  0.1769,  0.9475, -1.5193],\n",
              "         [-1.2109, -0.9184, -1.0092, -0.8222],\n",
              "         [-0.8350,  0.8540,  0.2152, -1.1328],\n",
              "         [ 0.5218, -0.0477, -0.4152, -0.6501]],\n",
              "\n",
              "        [[ 0.6356, -0.5601, -0.6335, -2.5158],\n",
              "         [-1.1669,  0.1559,  0.0134, -0.5415],\n",
              "         [ 0.8459, -0.0045, -0.5794,  0.3101],\n",
              "         [ 0.4962, -1.2201,  1.1269,  1.1427]]])"
            ]
          },
          "execution_count": 11,
          "metadata": {},
          "output_type": "execute_result"
        }
      ],
      "source": [
        "e"
      ]
    },
    {
      "cell_type": "code",
      "execution_count": null,
      "metadata": {
        "colab": {
          "base_uri": "https://localhost:8080/"
        },
        "id": "lRGCr1EXh4iQ",
        "outputId": "e5fe6374-6a17-4785-81ab-23e6072a0e0a"
      },
      "outputs": [
        {
          "data": {
            "text/plain": [
              "tensor([[[ 0.9369, -0.1916,  0.1570, -2.0176],\n",
              "         [-1.1889, -0.3813, -0.4979, -0.6819],\n",
              "         [ 0.0055,  0.4248, -0.1821, -0.4114],\n",
              "         [ 0.5090, -0.6339,  0.3558,  0.2463]]])"
            ]
          },
          "execution_count": 12,
          "metadata": {},
          "output_type": "execute_result"
        }
      ],
      "source": [
        "xme"
      ]
    },
    {
      "cell_type": "code",
      "execution_count": null,
      "metadata": {
        "colab": {
          "base_uri": "https://localhost:8080/"
        },
        "id": "EbDLiWfHe9Iv",
        "outputId": "f32945db-66eb-4e2d-a223-a9c80c7d605c"
      },
      "outputs": [
        {
          "data": {
            "text/plain": [
              "torch.Size([1, 4, 4])"
            ]
          },
          "execution_count": 13,
          "metadata": {},
          "output_type": "execute_result"
        }
      ],
      "source": [
        "xme.shape"
      ]
    },
    {
      "cell_type": "code",
      "execution_count": null,
      "metadata": {
        "id": "W5t22kW-SJH-"
      },
      "outputs": [],
      "source": [
        "import torch"
      ]
    },
    {
      "cell_type": "code",
      "execution_count": null,
      "metadata": {
        "id": "mES5Jyobe-1F"
      },
      "outputs": [],
      "source": [
        "p=torch.tensor([1.2383,1.2109,0.8350,0.5218,0.6356,1.1669,0.8459,0.4962])"
      ]
    },
    {
      "cell_type": "code",
      "execution_count": null,
      "metadata": {
        "colab": {
          "base_uri": "https://localhost:8080/"
        },
        "id": "wnqCbbCTSHWy",
        "outputId": "83ac9525-4bcf-4b3a-cda4-4c0b8483c2a7"
      },
      "outputs": [
        {
          "data": {
            "text/plain": [
              "tensor(0.8688)"
            ]
          },
          "execution_count": 4,
          "metadata": {},
          "output_type": "execute_result"
        }
      ],
      "source": [
        "p.mean()"
      ]
    },
    {
      "cell_type": "code",
      "execution_count": null,
      "metadata": {
        "id": "3a72s42JSORt"
      },
      "outputs": [],
      "source": []
    }
  ],
  "metadata": {
    "colab": {
      "provenance": [],
      "include_colab_link": true
    },
    "kernelspec": {
      "display_name": "Python 3",
      "language": "python",
      "name": "python3"
    },
    "language_info": {
      "codemirror_mode": {
        "name": "ipython",
        "version": 3
      },
      "file_extension": ".py",
      "mimetype": "text/x-python",
      "name": "python",
      "nbconvert_exporter": "python",
      "pygments_lexer": "ipython3",
      "version": "3.8.5"
    }
  },
  "nbformat": 4,
  "nbformat_minor": 0
}