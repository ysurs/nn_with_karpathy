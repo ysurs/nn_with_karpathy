{
  "nbformat": 4,
  "nbformat_minor": 0,
  "metadata": {
    "colab": {
      "provenance": []
    },
    "kernelspec": {
      "name": "python3",
      "display_name": "Python 3"
    },
    "language_info": {
      "name": "python"
    }
  },
  "cells": [
    {
      "cell_type": "code",
      "execution_count": 2,
      "metadata": {
        "id": "1v5N--FynEre"
      },
      "outputs": [],
      "source": [
        "import torch\n",
        "import pandas\n",
        "import matplotlib.pyplot as plt\n",
        "import torch.nn.functional as F\n"
      ]
    },
    {
      "cell_type": "code",
      "source": [
        "file=open('/content/drive/MyDrive/building_makemore/names.txt')\n",
        "words=file.read().split('\\n')"
      ],
      "metadata": {
        "id": "UsPrEgALnS88"
      },
      "execution_count": 3,
      "outputs": []
    },
    {
      "cell_type": "code",
      "source": [
        "len(words)"
      ],
      "metadata": {
        "colab": {
          "base_uri": "https://localhost:8080/"
        },
        "id": "8Z2eYfQvn5JL",
        "outputId": "909e62e0-8fe1-400f-c47b-6fe0a0170ca0"
      },
      "execution_count": 4,
      "outputs": [
        {
          "output_type": "execute_result",
          "data": {
            "text/plain": [
              "32033"
            ]
          },
          "metadata": {},
          "execution_count": 4
        }
      ]
    },
    {
      "cell_type": "code",
      "source": [
        "# making a dictionary\n",
        "stoi={c:i+1 for i,c in enumerate(sorted(list(set(''.join(words)))))}\n",
        "stoi['.']=0\n",
        "itos={i:c for c,i in stoi.items()}"
      ],
      "metadata": {
        "id": "yLdcjCncn_pW"
      },
      "execution_count": 5,
      "outputs": []
    },
    {
      "cell_type": "code",
      "source": [
        "stoi['a']"
      ],
      "metadata": {
        "colab": {
          "base_uri": "https://localhost:8080/"
        },
        "id": "KE4hNfvhpeVg",
        "outputId": "f6f03048-1efb-4cfa-db3c-7d1a30fa7cd3"
      },
      "execution_count": 6,
      "outputs": [
        {
          "output_type": "execute_result",
          "data": {
            "text/plain": [
              "1"
            ]
          },
          "metadata": {},
          "execution_count": 6
        }
      ]
    },
    {
      "cell_type": "markdown",
      "source": [
        "We are building a character level language model"
      ],
      "metadata": {
        "id": "EkJg5Y6wqZig"
      }
    },
    {
      "cell_type": "markdown",
      "source": [
        "***"
      ],
      "metadata": {
        "id": "tAwvlfLNqdxF"
      }
    },
    {
      "cell_type": "markdown",
      "source": [
        "### Building a dataset for 5 words"
      ],
      "metadata": {
        "id": "3GxnVdQEqfQ8"
      }
    },
    {
      "cell_type": "code",
      "source": [
        "X=[]\n",
        "Y=[]\n",
        "\n",
        "\n",
        "\n",
        "for w in words[:5]:\n",
        "\n",
        "  context=[0]*3\n",
        "  for ch in w+'.':\n",
        "    ix=stoi[ch]\n",
        "    X.append(context[:])\n",
        "    Y.append(ix)\n",
        "\n",
        "    #print(''.join(itos[i] for i in context),'gives ',itos[ix])\n",
        "    context.append(ix)\n",
        "    context=context[1:]\n",
        "\n",
        "  \n"
      ],
      "metadata": {
        "id": "1IMMcyVcpj_I"
      },
      "execution_count": 7,
      "outputs": []
    },
    {
      "cell_type": "code",
      "source": [
        "# Converting into a tensor\n",
        "X=torch.tensor(X)\n",
        "Y=torch.tensor(Y)"
      ],
      "metadata": {
        "id": "4lLd_W673q4A"
      },
      "execution_count": 8,
      "outputs": []
    },
    {
      "cell_type": "code",
      "source": [
        "X.shape"
      ],
      "metadata": {
        "colab": {
          "base_uri": "https://localhost:8080/"
        },
        "id": "DZnI1sjY3BTc",
        "outputId": "9d710f45-80e4-4a2a-9621-d90477f9a4f9"
      },
      "execution_count": 9,
      "outputs": [
        {
          "output_type": "execute_result",
          "data": {
            "text/plain": [
              "torch.Size([32, 3])"
            ]
          },
          "metadata": {},
          "execution_count": 9
        }
      ]
    },
    {
      "cell_type": "code",
      "source": [
        "# Embedding matrix where each character is represented using 2 cells\n",
        "C=torch.randn(27,2)"
      ],
      "metadata": {
        "id": "co4eZpNFtY_S"
      },
      "execution_count": 10,
      "outputs": []
    },
    {
      "cell_type": "code",
      "source": [
        "# This is the embedding of char at index 0 which in our case of '.'\n",
        "C[0]"
      ],
      "metadata": {
        "colab": {
          "base_uri": "https://localhost:8080/"
        },
        "id": "RD9r0kk73XrZ",
        "outputId": "db32fc13-83d5-49a0-e349-9a41b64fd60e"
      },
      "execution_count": 11,
      "outputs": [
        {
          "output_type": "execute_result",
          "data": {
            "text/plain": [
              "tensor([-2.5272,  0.8312])"
            ]
          },
          "metadata": {},
          "execution_count": 11
        }
      ]
    },
    {
      "cell_type": "code",
      "source": [
        "# Confirming our indexing works in pytorch\n",
        "C[torch.tensor([0,1])]"
      ],
      "metadata": {
        "colab": {
          "base_uri": "https://localhost:8080/"
        },
        "id": "ZIh2fg323Zhx",
        "outputId": "f7888eb4-efec-4caf-8cf4-1c13e9862f6e"
      },
      "execution_count": 12,
      "outputs": [
        {
          "output_type": "execute_result",
          "data": {
            "text/plain": [
              "tensor([[-2.5272,  0.8312],\n",
              "        [ 0.3193, -1.4087]])"
            ]
          },
          "metadata": {},
          "execution_count": 12
        }
      ]
    },
    {
      "cell_type": "code",
      "source": [
        "# We have a matrix consisting of concatenated embeddings for the first five samples from words\n",
        "C[X].reshape(32,-1).shape"
      ],
      "metadata": {
        "colab": {
          "base_uri": "https://localhost:8080/"
        },
        "id": "Ho0jIMBu4Ji1",
        "outputId": "b7797e58-9669-4f18-903f-8747545ea4dc"
      },
      "execution_count": 13,
      "outputs": [
        {
          "output_type": "execute_result",
          "data": {
            "text/plain": [
              "torch.Size([32, 6])"
            ]
          },
          "metadata": {},
          "execution_count": 13
        }
      ]
    },
    {
      "cell_type": "markdown",
      "source": [
        "### Now we want the hidden layer and weight matrix for it"
      ],
      "metadata": {
        "id": "641xdOyw639r"
      }
    },
    {
      "cell_type": "code",
      "source": [
        "# our hidden state has 10 neurons\n",
        "W1=torch.randn(6,100)\n",
        "b1=torch.randn(100)"
      ],
      "metadata": {
        "id": "LLzrjHp34fZs"
      },
      "execution_count": 14,
      "outputs": []
    },
    {
      "cell_type": "code",
      "source": [
        "b1.shape"
      ],
      "metadata": {
        "colab": {
          "base_uri": "https://localhost:8080/"
        },
        "id": "79R86wq58riA",
        "outputId": "72fb908d-9d0c-4fec-d094-98ee4c868ed3"
      },
      "execution_count": 15,
      "outputs": [
        {
          "output_type": "execute_result",
          "data": {
            "text/plain": [
              "torch.Size([100])"
            ]
          },
          "metadata": {},
          "execution_count": 15
        }
      ]
    },
    {
      "cell_type": "code",
      "source": [
        "C[X][1]"
      ],
      "metadata": {
        "colab": {
          "base_uri": "https://localhost:8080/"
        },
        "id": "vHxAzGmA9kVX",
        "outputId": "cf5ec51a-4aa6-44d1-b8e2-c7e1ffcc92a1"
      },
      "execution_count": 16,
      "outputs": [
        {
          "output_type": "execute_result",
          "data": {
            "text/plain": [
              "tensor([[-2.5272,  0.8312],\n",
              "        [-2.5272,  0.8312],\n",
              "        [-1.5338,  0.6881]])"
            ]
          },
          "metadata": {},
          "execution_count": 16
        }
      ]
    },
    {
      "cell_type": "code",
      "source": [
        "embedding=C[X].reshape(X.shape[0],-1)"
      ],
      "metadata": {
        "id": "5mtnk2057Y-N"
      },
      "execution_count": 17,
      "outputs": []
    },
    {
      "cell_type": "code",
      "source": [
        "embedding.shape"
      ],
      "metadata": {
        "colab": {
          "base_uri": "https://localhost:8080/"
        },
        "id": "dn0CSDwY9q0c",
        "outputId": "5ec3e9f8-75ab-4cf6-b820-27fed36646da"
      },
      "execution_count": 18,
      "outputs": [
        {
          "output_type": "execute_result",
          "data": {
            "text/plain": [
              "torch.Size([32, 6])"
            ]
          },
          "metadata": {},
          "execution_count": 18
        }
      ]
    },
    {
      "cell_type": "code",
      "source": [
        "(embedding@W1).shape"
      ],
      "metadata": {
        "colab": {
          "base_uri": "https://localhost:8080/"
        },
        "id": "swB4SS3A8IXf",
        "outputId": "20228890-77dc-41b5-f997-54cb3b11db26"
      },
      "execution_count": 19,
      "outputs": [
        {
          "output_type": "execute_result",
          "data": {
            "text/plain": [
              "torch.Size([32, 100])"
            ]
          },
          "metadata": {},
          "execution_count": 19
        }
      ]
    },
    {
      "cell_type": "code",
      "source": [
        "(embedding@W1+b1).shape"
      ],
      "metadata": {
        "colab": {
          "base_uri": "https://localhost:8080/"
        },
        "id": "f1Zr7vF97_K8",
        "outputId": "850c49b1-3e15-4632-ed5a-64f1801c242b"
      },
      "execution_count": 20,
      "outputs": [
        {
          "output_type": "execute_result",
          "data": {
            "text/plain": [
              "torch.Size([32, 100])"
            ]
          },
          "metadata": {},
          "execution_count": 20
        }
      ]
    },
    {
      "cell_type": "code",
      "source": [
        "h=torch.tanh(embedding@W1+b1)"
      ],
      "metadata": {
        "id": "SJ9LpE4C8ECo"
      },
      "execution_count": 21,
      "outputs": []
    },
    {
      "cell_type": "code",
      "source": [
        "h.shape"
      ],
      "metadata": {
        "colab": {
          "base_uri": "https://localhost:8080/"
        },
        "id": "_q1YlxDk8fCI",
        "outputId": "ce93ec6a-5935-42c3-c3d0-0035c3d70ee4"
      },
      "execution_count": 22,
      "outputs": [
        {
          "output_type": "execute_result",
          "data": {
            "text/plain": [
              "torch.Size([32, 100])"
            ]
          },
          "metadata": {},
          "execution_count": 22
        }
      ]
    },
    {
      "cell_type": "code",
      "source": [
        "W2=torch.randn(100,27)\n",
        "b2=torch.randn(27)\n",
        "\n",
        "W3=torch.randn(6,27)\n",
        "\n",
        "# implementing skip connection \n",
        "logits=h@W2+b2+embedding@W3"
      ],
      "metadata": {
        "id": "7Y1U89b0_o5v"
      },
      "execution_count": 23,
      "outputs": []
    },
    {
      "cell_type": "code",
      "source": [
        "loss=F.cross_entropy(logits,Y)"
      ],
      "metadata": {
        "id": "8E5wWc4pCsRY"
      },
      "execution_count": 24,
      "outputs": []
    },
    {
      "cell_type": "code",
      "source": [
        "# This is the loss which we want to minimize\n",
        "loss"
      ],
      "metadata": {
        "colab": {
          "base_uri": "https://localhost:8080/"
        },
        "id": "tEFy1I4eF26R",
        "outputId": "e43395e8-0ea4-4ec3-e47c-b899c0bb9782"
      },
      "execution_count": 25,
      "outputs": [
        {
          "output_type": "execute_result",
          "data": {
            "text/plain": [
              "tensor(18.3622)"
            ]
          },
          "metadata": {},
          "execution_count": 25
        }
      ]
    },
    {
      "cell_type": "markdown",
      "source": [
        "### Making functions and cleaning it more"
      ],
      "metadata": {
        "id": "KvPo3LBDHEOZ"
      }
    },
    {
      "cell_type": "code",
      "source": [
        "\n",
        "predictors=[]\n",
        "target=[]\n",
        "\n",
        "for w in words:\n",
        "\n",
        "  context=[0]*3\n",
        "  for ch in w+'.':\n",
        "    ix=stoi[ch]\n",
        "    predictors.append(context[:])\n",
        "    target.append(ix)\n",
        "\n",
        "    #print(''.join(itos[i] for i in context),'gives ',itos[ix])\n",
        "    context.append(ix)\n",
        "    context=context[1:]\n",
        "\n",
        "predictors=torch.tensor(predictors)\n",
        "target=torch.tensor(target)\n",
        "  \n",
        "\n",
        "\n"
      ],
      "metadata": {
        "id": "5zwtBdXHF3t8"
      },
      "execution_count": 26,
      "outputs": []
    },
    {
      "cell_type": "code",
      "source": [
        "# Initialising an embedding matrix\n",
        "g = torch.Generator().manual_seed(2147483647)\n",
        "C=torch.randn((27,2),generator=g)\n",
        "W1=torch.randn((6,100),generator=g)\n",
        "b1=torch.randn(100,generator=g)\n",
        "W2=torch.randn((100,27),generator=g)\n",
        "b2=torch.randn((27),generator=g)\n",
        "W3=torch.randn((6,27),generator=g)\n",
        "\n",
        "parameters = [C, W1, b1, W2, b2,W3]\n",
        "\n",
        "for p in parameters:\n",
        "  p.requires_grad=True"
      ],
      "metadata": {
        "id": "xmKj3zgUyIrH"
      },
      "execution_count": 79,
      "outputs": []
    },
    {
      "cell_type": "code",
      "source": [
        "lre = torch.linspace(-3, 0, 1000)\n",
        "lrs = 10**lre"
      ],
      "metadata": {
        "id": "f2yiAqU2XpRF"
      },
      "execution_count": 71,
      "outputs": []
    },
    {
      "cell_type": "code",
      "source": [
        "\n",
        "\n",
        "lossi=[]\n",
        "itr=[]\n",
        "lr=[]\n",
        "\n",
        "for i in range(200000):\n",
        "\n",
        "  ix=torch.randint(0,predictors.shape[0],(32,))\n",
        "\n",
        "  embedding=C[predictors[ix]].reshape(-1,6)\n",
        "\n",
        "  # hidden state 1\n",
        "  h=torch.tanh(embedding@W1+b1)\n",
        "\n",
        "  # output logits \n",
        "  # making use of skip connection as well\n",
        "  logits=h@W2+b2+embedding@W3\n",
        "\n",
        "  \n",
        "\n",
        "\n",
        "  #loss function\n",
        "\n",
        "  loss=F.cross_entropy(logits,target[ix])\n",
        "\n",
        "  for p in parameters:\n",
        "    p.grad=None\n",
        "\n",
        "  loss.backward()\n",
        "\n",
        "  lr=0.1 if i <100000 else 0.01\n",
        "  for p in parameters:\n",
        "    p.data+=-lr*(p.grad)\n",
        "  \n",
        "\n",
        "  lossi.append(loss.log().item())\n",
        "  itr.append(i)\n",
        "  #lr.append(lrs[i])\n",
        "\n",
        "\n",
        "\n",
        "\n",
        "  \n",
        "  \n"
      ],
      "metadata": {
        "id": "R-n33P9bJOqF"
      },
      "execution_count": 80,
      "outputs": []
    },
    {
      "cell_type": "code",
      "source": [
        "# From this plot, we can say that lr of about 0.1 seems to be optimal\n",
        "plt.plot(itr,lossi)"
      ],
      "metadata": {
        "colab": {
          "base_uri": "https://localhost:8080/",
          "height": 282
        },
        "id": "bZR9S11sc8VQ",
        "outputId": "6d0ded7a-0ede-4104-d95e-098b7a677aac"
      },
      "execution_count": 81,
      "outputs": [
        {
          "output_type": "execute_result",
          "data": {
            "text/plain": [
              "[<matplotlib.lines.Line2D at 0x7fb2f0e7d3d0>]"
            ]
          },
          "metadata": {},
          "execution_count": 81
        },
        {
          "output_type": "display_data",
          "data": {
            "text/plain": [
              "<Figure size 432x288 with 1 Axes>"
            ],
            "image/png": "[encoded data removed]"
          },
          "metadata": {
            "needs_background": "light"
          }
        }
      ]
    },
    {
      "cell_type": "code",
      "source": [
        "emb =C[X] # (32, 3, 2)\n",
        "h = torch.tanh(emb.view(-1, 6) @ W1 + b1) # (32, 100)\n",
        "logits = h @ W2 + b2+emb.view(-1,6)@W3 # (32, 27)\n",
        "loss = F.cross_entropy(logits, Y)\n",
        "loss¢"
      ],
      "metadata": {
        "colab": {
          "base_uri": "https://localhost:8080/"
        },
        "id": "0fgIvqonhjWC",
        "outputId": "9d0445ed-46ff-4087-cc2e-cabb827b9d95"
      },
      "execution_count": 82,
      "outputs": [
        {
          "output_type": "execute_result",
          "data": {
            "text/plain": [
              "tensor(2.1934, grad_fn=<NllLossBackward0>)"
            ]
          },
          "metadata": {},
          "execution_count": 82
        }
      ]
    },
    {
      "cell_type": "markdown",
      "source": [
        "### To complete with train/dev/test split, sampling and generating words out of it."
      ],
      "metadata": {
        "id": "-UW7DtZnwtYn"
      }
    },
    {
      "cell_type": "code",
      "source": [],
      "metadata": {
        "id": "YzW3nmBKf61m"
      },
      "execution_count": null,
      "outputs": []
    }
  ]
}