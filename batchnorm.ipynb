{
  "nbformat": 4,
  "nbformat_minor": 0,
  "metadata": {
    "colab": {
      "provenance": [],
      "mount_file_id": "1dP9cp6vQt5LR_yvy0k9pCO1e43D-GscD",
      "authorship_tag": "ABX9TyMe2ynaMezFRKsjF3EYn1BD",
      "include_colab_link": true
    },
    "kernelspec": {
      "name": "python3",
      "display_name": "Python 3"
    },
    "language_info": {
      "name": "python"
    }
  },
  "cells": [
    {
      "cell_type": "markdown",
      "metadata": {
        "id": "view-in-github",
        "colab_type": "text"
      },
      "source": [
        "<a href=\"https://colab.research.google.com/github/ysurs/nn_with_karpathy/blob/main/batchnorm.ipynb\" target=\"_parent\"><img src=\"https://colab.research.google.com/assets/colab-badge.svg\" alt=\"Open In Colab\"/></a>"
      ]
    },
    {
      "cell_type": "code",
      "execution_count": 1,
      "metadata": {
        "id": "ddRo6QSI60Aj"
      },
      "outputs": [],
      "source": [
        "import torch\n",
        "import torch.nn.functional as F\n",
        "import matplotlib.pyplot as plt # for making figures\n",
        "%matplotlib inline"
      ]
    },
    {
      "cell_type": "code",
      "source": [
        "# read in all the words\n",
        "words = open('/content/drive/MyDrive/building_makemore/names.txt', 'r').read().splitlines()\n",
        "words[:8]"
      ],
      "metadata": {
        "colab": {
          "base_uri": "https://localhost:8080/"
        },
        "id": "qdNnbu1k8BKs",
        "outputId": "57b9dc1e-8aec-4179-d6a8-8f7b921bd1da"
      },
      "execution_count": 2,
      "outputs": [
        {
          "output_type": "execute_result",
          "data": {
            "text/plain": [
              "['emma', 'olivia', 'ava', 'isabella', 'sophia', 'charlotte', 'mia', 'amelia']"
            ]
          },
          "metadata": {},
          "execution_count": 2
        }
      ]
    },
    {
      "cell_type": "code",
      "source": [
        "# build the vocabulary of characters and mappings to/from integers\n",
        "chars = sorted(list(set(''.join(words))))\n",
        "stoi = {s:i+1 for i,s in enumerate(chars)}\n",
        "stoi['.'] = 0\n",
        "itos = {i:s for s,i in stoi.items()}\n",
        "vocab_size = len(itos)\n",
        "print(itos)\n",
        "print(vocab_size)"
      ],
      "metadata": {
        "colab": {
          "base_uri": "https://localhost:8080/"
        },
        "id": "4Y5HEbkp8O8x",
        "outputId": "3d3843ca-b735-47e8-f122-aae4ba48ec73"
      },
      "execution_count": 3,
      "outputs": [
        {
          "output_type": "stream",
          "name": "stdout",
          "text": [
            "{1: 'a', 2: 'b', 3: 'c', 4: 'd', 5: 'e', 6: 'f', 7: 'g', 8: 'h', 9: 'i', 10: 'j', 11: 'k', 12: 'l', 13: 'm', 14: 'n', 15: 'o', 16: 'p', 17: 'q', 18: 'r', 19: 's', 20: 't', 21: 'u', 22: 'v', 23: 'w', 24: 'x', 25: 'y', 26: 'z', 0: '.'}\n",
            "27\n"
          ]
        }
      ]
    },
    {
      "cell_type": "code",
      "source": [
        "# build the dataset\n",
        "block_size = 3 # context length: how many characters do we take to predict the next one?\n",
        "\n",
        "def build_dataset(words):  \n",
        "  X, Y = [], []\n",
        "  \n",
        "  for w in words:\n",
        "    context = [0] * block_size\n",
        "    for ch in w + '.':\n",
        "      ix = stoi[ch]\n",
        "      X.append(context)\n",
        "      Y.append(ix)\n",
        "      context = context[1:] + [ix] # crop and append\n",
        "\n",
        "  X = torch.tensor(X)\n",
        "  Y = torch.tensor(Y)\n",
        "  print(X.shape, Y.shape)\n",
        "  return X, Y\n",
        "\n",
        "import random\n",
        "random.seed(42)\n",
        "random.shuffle(words)\n",
        "n1 = int(0.8*len(words))\n",
        "n2 = int(0.9*len(words))\n",
        "\n",
        "Xtr,  Ytr  = build_dataset(words[:n1])     # 80%\n",
        "Xdev, Ydev = build_dataset(words[n1:n2])   # 10%\n",
        "Xte,  Yte  = build_dataset(words[n2:])     # 10%"
      ],
      "metadata": {
        "colab": {
          "base_uri": "https://localhost:8080/"
        },
        "id": "hlQl-bXm8TJ6",
        "outputId": "640eb106-e4ef-41e8-f99f-680ecb48cb08"
      },
      "execution_count": 4,
      "outputs": [
        {
          "output_type": "stream",
          "name": "stdout",
          "text": [
            "torch.Size([182625, 3]) torch.Size([182625])\n",
            "torch.Size([22655, 3]) torch.Size([22655])\n",
            "torch.Size([22866, 3]) torch.Size([22866])\n"
          ]
        }
      ]
    },
    {
      "cell_type": "code",
      "source": [
        "# MLP revisited\n",
        "n_embd = 10 # the dimensionality of the character embedding vectors\n",
        "n_hidden = 200 # the number of neurons in the hidden layer of the MLP\n",
        "\n",
        "g = torch.Generator().manual_seed(2147483647) # for reproducibility\n",
        "C  = torch.randn((vocab_size, n_embd),            generator=g)\n",
        "W1 = torch.randn((n_embd * block_size, n_hidden), generator=g)*(5/3)/((n_embd * block_size)**0.5)\n",
        "b1 = torch.randn(n_hidden,                        generator=g)*0.01\n",
        "W2 = torch.randn((n_hidden, vocab_size),          generator=g)* 0.01\n",
        "b2 = torch.randn(vocab_size,                      generator=g)*0.0\n",
        "\n",
        "\n",
        "parameters = [C, W1,b1, W2, b2]\n",
        "print(sum(p.nelement() for p in parameters)) # number of parameters in total\n",
        "for p in parameters:\n",
        "  p.requires_grad = True"
      ],
      "metadata": {
        "colab": {
          "base_uri": "https://localhost:8080/"
        },
        "id": "RGNMqtKL8YR-",
        "outputId": "a3a7a152-bb18-4507-e34b-5da47c9aef9f"
      },
      "execution_count": 5,
      "outputs": [
        {
          "output_type": "stream",
          "name": "stdout",
          "text": [
            "11897\n"
          ]
        }
      ]
    },
    {
      "cell_type": "code",
      "source": [
        "hpreact.mean(0,keepdims=True).shape"
      ],
      "metadata": {
        "colab": {
          "base_uri": "https://localhost:8080/"
        },
        "id": "-b3SXrHmRAhv",
        "outputId": "297aa756-3a13-40cc-d645-8980d26f2568"
      },
      "execution_count": 11,
      "outputs": [
        {
          "output_type": "execute_result",
          "data": {
            "text/plain": [
              "torch.Size([1, 200])"
            ]
          },
          "metadata": {},
          "execution_count": 11
        }
      ]
    },
    {
      "cell_type": "code",
      "source": [
        "# same optimization as last time\n",
        "max_steps = 200000\n",
        "batch_size = 32\n",
        "lossi = []\n",
        "\n",
        "for i in range(max_steps):\n",
        "  \n",
        "  # minibatch construct\n",
        "  ix = torch.randint(0, Xtr.shape[0], (batch_size,), generator=g)\n",
        "  Xb, Yb = Xtr[ix], Ytr[ix] # batch X,Y\n",
        "  #print(Yb)\n",
        "  \n",
        "  # forward pass\n",
        "  emb = C[Xb] # embed the characters into vectors\n",
        "  embcat = emb.view(emb.shape[0], -1) # concatenate the vectors\n",
        "  # Linear layer\n",
        "  hpreact = embcat @ W1 + b1 \n",
        "  hpreact=(hpreact-hpreact.mean(0,keepdims=True))/(hpreact.std(0,keepdims=True))\n",
        "  # Non-linearity\n",
        "  h = torch.tanh(hpreact) # hidden layer\n",
        "  logits = h @ W2 + b2 # output layer\n",
        "  loss = F.cross_entropy(logits, Yb) # loss function\n",
        "  \n",
        "  # backward pass\n",
        "  for p in parameters:\n",
        "    p.grad = None\n",
        "  loss.backward()\n",
        "  \n",
        "  # update\n",
        "  lr = 0.1 if i < 100000 else 0.01 # step learning rate decay\n",
        "  for p in parameters:\n",
        "    p.data += -lr * p.grad\n",
        "\n",
        "  # track stats\n",
        "  if i % 10000 == 0: # print every once in a while\n",
        "    print(f'{i:2d}/{max_steps:2d}: {loss.item():.4f}')\n",
        "  lossi.append(loss.log10().item())\n",
        "\n",
        "  #break"
      ],
      "metadata": {
        "colab": {
          "base_uri": "https://localhost:8080/"
        },
        "id": "Kgl8b0er87yV",
        "outputId": "d2759bed-d08c-4f07-c205-89c6b90fa2a0"
      },
      "execution_count": 6,
      "outputs": [
        {
          "output_type": "stream",
          "name": "stdout",
          "text": [
            " 0/200000: 3.3179\n",
            "10000/200000: 2.1910\n",
            "20000/200000: 2.3270\n",
            "30000/200000: 2.5396\n",
            "40000/200000: 1.9468\n",
            "50000/200000: 2.3331\n",
            "60000/200000: 2.3852\n",
            "70000/200000: 2.1173\n",
            "80000/200000: 2.3159\n",
            "90000/200000: 2.2010\n",
            "100000/200000: 1.8591\n",
            "110000/200000: 2.0881\n",
            "120000/200000: 1.9389\n",
            "130000/200000: 2.3913\n",
            "140000/200000: 2.0949\n",
            "150000/200000: 2.1458\n",
            "160000/200000: 1.7824\n",
            "170000/200000: 1.7249\n",
            "180000/200000: 1.9752\n",
            "190000/200000: 1.8614\n"
          ]
        }
      ]
    },
    {
      "cell_type": "markdown",
      "source": [
        "### As we can see, the loss on initialisation is very high and subsequent losses are no where near that value. This shouldn't be the case ideally. On initialisation, every character should have equally likely chance of getting picked up but this high loss value indicates that some characters are more probable of getting picked up than others."
      ],
      "metadata": {
        "id": "B9_Srh8t-5vX"
      }
    },
    {
      "cell_type": "markdown",
      "source": [
        "### Ideally the probabilities will be equally likely and equal to 1/27"
      ],
      "metadata": {
        "id": "AEkMhqhwARg0"
      }
    },
    {
      "cell_type": "code",
      "source": [
        "## The ideal loss on initialisation should be \n",
        "\n",
        "(-torch.tensor(1/27).log())"
      ],
      "metadata": {
        "colab": {
          "base_uri": "https://localhost:8080/"
        },
        "id": "s1mLGZAYAjbM",
        "outputId": "4a9143b8-6943-4264-e7f7-3ba91c978124"
      },
      "execution_count": 26,
      "outputs": [
        {
          "output_type": "execute_result",
          "data": {
            "text/plain": [
              "tensor(3.2958)"
            ]
          },
          "metadata": {},
          "execution_count": 26
        }
      ]
    },
    {
      "cell_type": "code",
      "source": [
        "# A four dimensional example. Assuming the target label is 2\n",
        "logits=torch.tensor([0.0,0.0,0.0,0.0,0.0])\n",
        "probs=torch.softmax(logits,dim=0)\n",
        "loss=-probs[2].log()\n",
        "probs,loss"
      ],
      "metadata": {
        "colab": {
          "base_uri": "https://localhost:8080/"
        },
        "id": "XtF9Xz34BKeV",
        "outputId": "c960c520-1b9b-4cc5-8842-92c5784466cf"
      },
      "execution_count": 34,
      "outputs": [
        {
          "output_type": "execute_result",
          "data": {
            "text/plain": [
              "(tensor([0.2000, 0.2000, 0.2000, 0.2000, 0.2000]), tensor(1.6094))"
            ]
          },
          "metadata": {},
          "execution_count": 34
        }
      ]
    },
    {
      "cell_type": "markdown",
      "source": [
        "### If we change numbers from 0, we will get more loss and if we keep every number close to 0, we will get less loss"
      ],
      "metadata": {
        "id": "dx33rSB6KaLM"
      }
    },
    {
      "cell_type": "code",
      "source": [
        "plt.plot(lossi)"
      ],
      "metadata": {
        "colab": {
          "base_uri": "https://localhost:8080/",
          "height": 282
        },
        "id": "qk9vR4qY-PVw",
        "outputId": "54cea959-fee2-4f53-a243-ceb63df088d2"
      },
      "execution_count": 7,
      "outputs": [
        {
          "output_type": "execute_result",
          "data": {
            "text/plain": [
              "[<matplotlib.lines.Line2D at 0x7f9e91a3b9a0>]"
            ]
          },
          "metadata": {},
          "execution_count": 7
        },
        {
          "output_type": "display_data",
          "data": {
            "text/plain": [
              "<Figure size 432x288 with 1 Axes>"
            ],
            "image/png": "[encoded data removed]"
          },
          "metadata": {
            "needs_background": "light"
          }
        }
      ]
    },
    {
      "cell_type": "code",
      "source": [
        "@torch.no_grad() # this decorator disables gradient tracking for efficiency reasons\n",
        "def split_loss(split):\n",
        "  x,y = {\n",
        "    'train': (Xtr, Ytr),\n",
        "    'val': (Xdev, Ydev),\n",
        "    'test': (Xte, Yte),\n",
        "  }[split]\n",
        "  emb = C[x] # (N, block_size, n_embd)\n",
        "  embcat = emb.view(emb.shape[0], -1) # concat into (N, block_size * n_embd)\n",
        "  h = torch.tanh(embcat@W1+b1) # (N, n_hidden)\n",
        "  logits = h @ W2 + b2 # (N, vocab_size)\n",
        "  loss = F.cross_entropy(logits, y)\n",
        "  print(split, loss.item())\n",
        "\n",
        "split_loss('train')\n",
        "split_loss('val')"
      ],
      "metadata": {
        "colab": {
          "base_uri": "https://localhost:8080/"
        },
        "id": "3QcJ2XDT_7PI",
        "outputId": "fdaf14ae-cdaa-4d18-c385-835e94cfff64"
      },
      "execution_count": 8,
      "outputs": [
        {
          "output_type": "stream",
          "name": "stdout",
          "text": [
            "train 2.0376641750335693\n",
            "val 2.106989622116089\n"
          ]
        }
      ]
    },
    {
      "cell_type": "markdown",
      "source": [
        "loss log\n",
        "original:\n",
        "train 2.1245384216308594 val 2.1750576496124268\n",
        "\n",
        "fix softmax confidently wrong:\n",
        "train 2.07 val 2.13 (we achieved this by fixing our initialisation loss which we achieved by setting b2 to 0 and reducing W2 values) We did this because, at initialisation, we were getting a very high loss value. Getting high loss is not possible because during initialisation, every character is equally probable and the neural network does favour any particular character.\n",
        "\n",
        "fix tanh layer too saturated at init: train 2.0355966091156006 val 2.1026785373687744 :We scaled down value of hpreact. This was done because h which we obtain after passing preact to tanh was producing a lot of -1 and 1 values. This can kill gradients.\n",
        "\n",
        "using kaiming init formula for initialisation: we get train 2.0376641750335693\n",
        "val 2.106989622116089. Motivation is that we want to have similar gaussian distribution throughout the network and it should happen that after some operations, distribution is changing\n"
      ],
      "metadata": {
        "id": "xFDKcZZ2W9d8"
      }
    },
    {
      "cell_type": "code",
      "source": [
        "# sample from the model\n",
        "g = torch.Generator().manual_seed(2147483647 + 10)\n",
        "\n",
        "for _ in range(20):\n",
        "    \n",
        "    out = []\n",
        "    context = [0] * block_size # initialize with all ...\n",
        "    while True:\n",
        "      # forward pass the neural net\n",
        "      emb = C[torch.tensor([context])] # (1,block_size,n_embd)\n",
        "      h = torch.tanh(emb.view(1, -1)@W1+b1) # concatenate the vectors\n",
        "      logits=h@W2+b2\n",
        "      probs = F.softmax(logits, dim=1)\n",
        "      # sample from the distribution\n",
        "      ix = torch.multinomial(probs, num_samples=1, generator=g).item()\n",
        "      # shift the context window and track the samples\n",
        "      context = context[1:] + [ix]\n",
        "      out.append(ix)\n",
        "      # if we sample the special '.' token, break\n",
        "      if ix == 0:\n",
        "        break\n",
        "    \n",
        "    print(''.join(itos[i] for i in out)) # decode and print the generated word"
      ],
      "metadata": {
        "colab": {
          "base_uri": "https://localhost:8080/"
        },
        "id": "A7xum_F-AVnQ",
        "outputId": "086fbbe1-f8c5-44b9-d6e2-4078cc6916cf"
      },
      "execution_count": 12,
      "outputs": [
        {
          "output_type": "stream",
          "name": "stdout",
          "text": [
            "carlah.\n",
            "amille.\n",
            "khy.\n",
            "myli.\n",
            "taty.\n",
            "skanden.\n",
            "jazonen.\n",
            "amerynchireei.\n",
            "nellara.\n",
            "chaiir.\n",
            "kaleigh.\n",
            "ham.\n",
            "jorn.\n",
            "quint.\n",
            "salin.\n",
            "alianni.\n",
            "wanthoniearyn.\n",
            "kai.\n",
            "everusabee.\n",
            "demiia.\n"
          ]
        }
      ]
    },
    {
      "cell_type": "code",
      "source": [],
      "metadata": {
        "id": "hq5y7u0wCa4J"
      },
      "execution_count": 12,
      "outputs": []
    }
  ]
}